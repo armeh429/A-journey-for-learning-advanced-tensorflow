{
  "nbformat": 4,
  "nbformat_minor": 0,
  "metadata": {
    "colab": {
      "name": "huber_loss.ipynb",
      "provenance": [],
      "authorship_tag": "ABX9TyMUTW/+4mndumpQSLpU3OvP",
      "include_colab_link": true
    },
    "kernelspec": {
      "name": "python3",
      "display_name": "Python 3"
    },
    "language_info": {
      "name": "python"
    }
  },
  "cells": [
    {
      "cell_type": "markdown",
      "metadata": {
        "id": "view-in-github",
        "colab_type": "text"
      },
      "source": [
        "<a href=\"https://colab.research.google.com/github/armeh429/A-journey-for-learning-advanced-tensorflow/blob/main/huber_loss.ipynb\" target=\"_parent\"><img src=\"https://colab.research.google.com/assets/colab-badge.svg\" alt=\"Open In Colab\"/></a>"
      ]
    },
    {
      "cell_type": "markdown",
      "metadata": {
        "id": "3WSSiO1Sx5G_"
      },
      "source": [
        "###imports"
      ]
    },
    {
      "cell_type": "code",
      "metadata": {
        "id": "A4NjMuvtxsnQ"
      },
      "source": [
        "try: \n",
        "  %tensorrflow_version 2.x\n",
        "except Exception :\n",
        "  pass\n",
        "import tensorflow as tf\n",
        "import numpy as np\n",
        "from tensorflow import keras\n"
      ],
      "execution_count": 2,
      "outputs": []
    },
    {
      "cell_type": "markdown",
      "metadata": {
        "id": "V_gbz_mfydVv"
      },
      "source": [
        "###Prepare the Data\n",
        "\n",
        "Our dummy dataset is just a pair of arrays xs and ys defined by the relationship  𝑦=2𝑥−1 . xs are the inputs while ys are the labels."
      ]
    },
    {
      "cell_type": "code",
      "metadata": {
        "id": "X7e5h0OGyKqq"
      },
      "source": [
        "# inputs\n",
        "xs = np.array([-1.0 , 0.0 , 1.0 , 2.0 , 3.0 , 4.0 ], dtype=float)\n",
        "ys = np.array([-3.0 , -1.0 , 1.0 , 3.0 , 5.0 , 7.0], dtype= float)"
      ],
      "execution_count": 3,
      "outputs": []
    },
    {
      "cell_type": "markdown",
      "metadata": {
        "id": "YmySQTxQzEds"
      },
      "source": [
        "###Training the model\n",
        "\n",
        "Let's build a simple model and train using a built-in loss function like the mean_squared_error."
      ]
    },
    {
      "cell_type": "code",
      "metadata": {
        "colab": {
          "base_uri": "https://localhost:8080/"
        },
        "id": "d80uNC2MzKZs",
        "outputId": "0e8dc586-77bb-497f-cde0-5251af881afa"
      },
      "source": [
        "model = tf.keras.Sequential([keras.layers.Dense(units=1 , input_shape=[1] )])\n",
        "model.compile(optimizer='sgd', loss='mean_squared_error')\n",
        "model.fit(xs,ys, epochs=500 , verbose=0)\n",
        "print(model.predict([10.0]))"
      ],
      "execution_count": 5,
      "outputs": [
        {
          "output_type": "stream",
          "name": "stdout",
          "text": [
            "[[18.976562]]\n"
          ]
        }
      ]
    },
    {
      "cell_type": "markdown",
      "metadata": {
        "id": "amQYYyygy-km"
      },
      "source": [
        "### Custom Loss\n",
        "\n",
        "Now let's see how we can use a custom loss. We first define a function that accepts the ground truth labels (`y_true`) and model predictions (`y_pred`) as parameters. We then compute and return the loss value in the function definition"
      ]
    },
    {
      "cell_type": "code",
      "metadata": {
        "id": "WvkX44Utz_r3"
      },
      "source": [
        "def my_huber_loss(y_true , y_pred):\n",
        "  threshold = 1\n",
        "  error = y_true - y_pred\n",
        "  is_small_error = tf.abs(error) <= threshold\n",
        "  small_error_loss = tf.square(error) / 2\n",
        "  big_error_loss = threshold * (tf.abs(error) - (0.5 *   threshold))\n",
        "  return tf.where(is_small_error , small_error_loss , big_error_loss)"
      ],
      "execution_count": 6,
      "outputs": []
    },
    {
      "cell_type": "markdown",
      "metadata": {
        "id": "877BvbDs2WHt"
      },
      "source": [
        "Using the loss function is as simple as specifying the loss function in the loss argument of model.compile()."
      ]
    },
    {
      "cell_type": "code",
      "metadata": {
        "colab": {
          "base_uri": "https://localhost:8080/"
        },
        "id": "FRQs5egn2Yb5",
        "outputId": "bc6650db-12d2-422e-cc6d-3ce1207bed2b"
      },
      "source": [
        "model = tf.keras.Sequential([keras.layers.Dense(units=1 , input_shape= [1] )])\n",
        "model.compile(optimizer='sgd' , loss=my_huber_loss)\n",
        "model.fit(xs , ys , epochs=500 , verbose=0)\n",
        "print(model.predict([10.0]))"
      ],
      "execution_count": 8,
      "outputs": [
        {
          "output_type": "stream",
          "name": "stdout",
          "text": [
            "[[18.63987]]\n"
          ]
        }
      ]
    },
    {
      "cell_type": "code",
      "metadata": {
        "id": "exALB7bP259h"
      },
      "source": [
        ""
      ],
      "execution_count": null,
      "outputs": []
    }
  ]
}