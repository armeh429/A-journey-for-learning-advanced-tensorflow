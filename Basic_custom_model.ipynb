{
  "nbformat": 4,
  "nbformat_minor": 0,
  "metadata": {
    "colab": {
      "name": "Basic_custom_model.ipynb",
      "provenance": [],
      "authorship_tag": "ABX9TyPsngDOt8UuiyNXjK0j4Cae",
      "include_colab_link": true
    },
    "kernelspec": {
      "name": "python3",
      "display_name": "Python 3"
    },
    "language_info": {
      "name": "python"
    },
    "accelerator": "GPU"
  },
  "cells": [
    {
      "cell_type": "markdown",
      "metadata": {
        "id": "view-in-github",
        "colab_type": "text"
      },
      "source": [
        "<a href=\"https://colab.research.google.com/github/armeh429/A-journey-for-learning-advanced-tensorflow/blob/main/Basic_custom_model.ipynb\" target=\"_parent\"><img src=\"https://colab.research.google.com/assets/colab-badge.svg\" alt=\"Open In Colab\"/></a>"
      ]
    },
    {
      "cell_type": "markdown",
      "metadata": {
        "id": "fkQ_YV_LB6hs"
      },
      "source": [
        "###Import"
      ]
    },
    {
      "cell_type": "code",
      "metadata": {
        "id": "Y1JHUw7-BjjM"
      },
      "source": [
        "try: \n",
        "  %tensorflow_version 2.x\n",
        "except Exception:\n",
        "  pass\n",
        "\n",
        "import tensorflow as tf\n",
        "from tensorflow.keras.layers import Dense\n",
        "from tensorflow.keras import Model\n",
        "from tensorflow.keras.layers import concatenate\n",
        "from tensorflow.keras.layers import Input\n",
        "from tensorflow.keras.utils import plot_model"
      ],
      "execution_count": 3,
      "outputs": []
    },
    {
      "cell_type": "markdown",
      "metadata": {
        "id": "VMxRuYjZC4WV"
      },
      "source": [
        "###**Build the Model**\n",
        "\n",
        "Let's implement the wide and deep model as shown in class. As shown below, the Functional API is very flexible in implementing complex models.\n",
        "\n",
        " \n",
        "\n",
        "1.  You will specify the previous layer when you define a new layer.\n",
        "2.   When you define the Model, you will specify the inputs and output.\n",
        "\n",
        "\n",
        " "
      ]
    },
    {
      "cell_type": "code",
      "metadata": {
        "colab": {
          "base_uri": "https://localhost:8080/",
          "height": 466
        },
        "id": "nFSHemCvCK_E",
        "outputId": "6db8bd52-5dd2-43c2-e75a-f5ceeae76695"
      },
      "source": [
        "#define inputs\n",
        "input_a = Input(shape=[1] , name=\"wide_Input\")\n",
        "input_b = Input(shape=[1], name=\"Deep_Input\")\n",
        "\n",
        "#define deep path \n",
        "hidden_1 = Dense(30, activation=\"relu\")(input_b)\n",
        "hidden_2 = Dense(30 , activation=\"relu\")(hidden_1)\n",
        "\n",
        "#define merged path\n",
        "concat = concatenate([input_a , hidden_2])\n",
        "output = Dense(1 , name=\"output\")(concat)\n",
        "# define another output fro the deep path \n",
        "aux_output = Dense(1 , name=\"aux_output\")(hidden_2)\n",
        "\n",
        "# build the model \n",
        "model = Model(inputs=[input_a , input_b], outputs = [output , aux_output])\n",
        "\n",
        "#visualize the architecture \n",
        "plot_model(model)\n"
      ],
      "execution_count": 2,
      "outputs": [
        {
          "output_type": "execute_result",
          "data": {
            "image/png": "[encoded data removed]",
            "text/plain": [
              "<IPython.core.display.Image object>"
            ]
          },
          "metadata": {},
          "execution_count": 2
        }
      ]
    },
    {
      "cell_type": "markdown",
      "metadata": {
        "id": "ti4h7FDJFzdY"
      },
      "source": [
        "###**Implement as a Class**\n",
        "\n",
        "Alternatively, you can also implement this same model as a class.\n",
        "\n",
        "\n",
        "> For that, you define a class that inherits from the Model class.\n",
        "Inheriting from the existing Model class lets you use the Model methods such as compile(), fit(), evaluate().\n",
        "\n",
        "\n",
        "When inheriting from Model, you will want to define at least two functions:\n",
        "\n",
        "\n",
        ">__init__(): you will initialize the instance attributes.\n",
        "call(): you will build the network and return the output layers.\n",
        "\n",
        "If you compare the two methods, the structure is very similar, except when using the class, you'll define all the layers in one function, init, and connect the layers together in another function, call."
      ]
    },
    {
      "cell_type": "code",
      "metadata": {
        "id": "ETwHqRyZFrdG"
      },
      "source": [
        "#inherint from the Model base class\n",
        "class WideAndeDeepModel(Model):\n",
        "\n",
        "  def __init__(self,units=30 , activation='relu' , **kwargs):\n",
        "    '''initialize the instance attributes'''\n",
        "    super().__init__(**kwargs)\n",
        "    self.hidden_1 = Dense(units, activation=activation)\n",
        "    self.hidden_2 = Dense(units , activation = activation)\n",
        "    self.main_output = Dense(1)\n",
        "    self.aux_output = Dense(1)\n",
        "  \n",
        "  def call(self, inputs):\n",
        "    ''' defines the network architecture'''\n",
        "    input_A , input_B = inputs\n",
        "    hidden_1 = self.hidden_1(input_B)\n",
        "    hidden2 = self.hidden2(hidden1)\n",
        "    concat = concatenate([input_A, hidden2])\n",
        "    main_output = self.main_output(concat)\n",
        "    aux_output = self.aux_output(hidden2)\n",
        "        \n",
        "    return main_output, aux_output"
      ],
      "execution_count": 8,
      "outputs": []
    },
    {
      "cell_type": "code",
      "metadata": {
        "id": "w7U3I_RwIS8o"
      },
      "source": [
        "# create an instance of the model\n",
        "model = WideAndeDeepModel()"
      ],
      "execution_count": 9,
      "outputs": []
    },
    {
      "cell_type": "code",
      "metadata": {
        "id": "g3yL_SAiIpMt"
      },
      "source": [
        ""
      ],
      "execution_count": null,
      "outputs": []
    }
  ]
}